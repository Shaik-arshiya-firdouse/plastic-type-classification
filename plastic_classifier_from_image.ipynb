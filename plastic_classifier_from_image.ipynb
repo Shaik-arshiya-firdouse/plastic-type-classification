{
  "nbformat": 4,
  "nbformat_minor": 0,
  "metadata": {
    "colab": {
      "provenance": [],
      "gpuType": "T4"
    },
    "kernelspec": {
      "name": "python3",
      "display_name": "Python 3"
    },
    "language_info": {
      "name": "python"
    },
    "accelerator": "GPU"
  },
  "cells": [
    {
      "cell_type": "code",
      "execution_count": 10,
      "metadata": {
        "colab": {
          "base_uri": "https://localhost:8080/"
        },
        "id": "e5sI4ncfkK-C",
        "outputId": "241e502c-0e12-40cd-fb21-b471dea75948"
      },
      "outputs": [
        {
          "output_type": "stream",
          "name": "stdout",
          "text": [
            "Drive already mounted at /content/drive; to attempt to forcibly remount, call drive.mount(\"/content/drive\", force_remount=True).\n"
          ]
        }
      ],
      "source": [
        "from google.colab import drive\n",
        "drive.mount('/content/drive')\n"
      ]
    },
    {
      "cell_type": "code",
      "source": [
        "import os\n",
        "\n",
        "# Path to your dataset folder in Google Drive\n",
        "data_dir = \"/content/drive/MyDrive/Plastic types\"   # Change path if needed\n",
        "\n",
        "# List all class folders\n",
        "classes = os.listdir(data_dir)\n",
        "print(\"Classes found:\", classes)\n"
      ],
      "metadata": {
        "colab": {
          "base_uri": "https://localhost:8080/"
        },
        "id": "g7S5aLlJlAnR",
        "outputId": "ffa6e996-d5f9-430d-dd61-4e778ef214d6"
      },
      "execution_count": null,
      "outputs": [
        {
          "output_type": "stream",
          "name": "stdout",
          "text": [
            "Classes found: ['Others', 'PC', 'PE', 'PET', 'PP', 'PS']\n"
          ]
        }
      ]
    },
    {
      "cell_type": "code",
      "source": [
        "import numpy as np\n",
        "import lightgbm as lgb\n",
        "from sklearn.model_selection import train_test_split\n",
        "from sklearn.metrics import accuracy_score\n",
        "from tensorflow.keras.applications import MobileNetV2\n",
        "from tensorflow.keras.preprocessing.image import load_img, img_to_array\n",
        "from tensorflow.keras.applications.mobilenet_v2 import preprocess_input\n"
      ],
      "metadata": {
        "id": "obz1HnHKlQxI"
      },
      "execution_count": null,
      "outputs": []
    },
    {
      "cell_type": "code",
      "source": [
        "# Pretrained CNN for feature extraction\n",
        "feature_extractor = MobileNetV2(weights=\"imagenet\", include_top=False, pooling=\"avg\")\n",
        "\n",
        "def extract_features(img_path, target_size=(128,128)):\n",
        "    try:\n",
        "        img = load_img(img_path, target_size=target_size)\n",
        "        img_array = img_to_array(img)\n",
        "        img_array = np.expand_dims(img_array, axis=0)\n",
        "        img_array = preprocess_input(img_array)\n",
        "        features = feature_extractor.predict(img_array, verbose=0)  # shape (1, 1280)\n",
        "        return features.flatten()\n",
        "    except Exception as e:\n",
        "        print(f\"Error processing {img_path}: {e}\")\n",
        "        return None\n"
      ],
      "metadata": {
        "colab": {
          "base_uri": "https://localhost:8080/"
        },
        "id": "R6gEbBTElTOR",
        "outputId": "ed2a2bd5-cc57-4673-c7c2-fcfeb7929dab"
      },
      "execution_count": null,
      "outputs": [
        {
          "output_type": "stream",
          "name": "stderr",
          "text": [
            "/tmp/ipython-input-142810168.py:2: UserWarning: `input_shape` is undefined or non-square, or `rows` is not in [96, 128, 160, 192, 224]. Weights for input shape (224, 224) will be loaded as the default.\n",
            "  feature_extractor = MobileNetV2(weights=\"imagenet\", include_top=False, pooling=\"avg\")\n"
          ]
        },
        {
          "output_type": "stream",
          "name": "stdout",
          "text": [
            "Downloading data from https://storage.googleapis.com/tensorflow/keras-applications/mobilenet_v2/mobilenet_v2_weights_tf_dim_ordering_tf_kernels_1.0_224_no_top.h5\n",
            "\u001b[1m9406464/9406464\u001b[0m \u001b[32m━━━━━━━━━━━━━━━━━━━━\u001b[0m\u001b[37m\u001b[0m \u001b[1m0s\u001b[0m 0us/step\n"
          ]
        }
      ]
    },
    {
      "cell_type": "code",
      "source": [
        "X = []\n",
        "y = []\n",
        "\n",
        "for label, class_name in enumerate(classes):\n",
        "    class_dir = os.path.join(data_dir, class_name)\n",
        "    for file in os.listdir(class_dir):\n",
        "        img_path = os.path.join(class_dir, file)\n",
        "        feat = extract_features(img_path)\n",
        "        if feat is not None:\n",
        "            X.append(feat)\n",
        "            y.append(label)\n",
        "\n",
        "X = np.array(X)\n",
        "y = np.array(y)\n",
        "\n",
        "print(\"Dataset shape:\", X.shape, y.shape)\n"
      ],
      "metadata": {
        "colab": {
          "base_uri": "https://localhost:8080/"
        },
        "id": "joJoNtGvlZo4",
        "outputId": "fa85d5fd-9949-4586-a2ab-db947e2eaec4"
      },
      "execution_count": null,
      "outputs": [
        {
          "output_type": "stream",
          "name": "stdout",
          "text": [
            "Dataset shape: (5, 1280) (5,)\n"
          ]
        }
      ]
    },
    {
      "cell_type": "code",
      "source": [
        "X_train, X_test, y_train, y_test = train_test_split(\n",
        "    X, y, test_size=0.2, random_state=42\n",
        ")\n",
        "\n",
        "train_data = lgb.Dataset(X_train, label=y_train)\n",
        "test_data = lgb.Dataset(X_test, label=y_test, reference=train_data)\n",
        "\n",
        "params = {\n",
        "    \"objective\": \"multiclass\",\n",
        "    \"num_class\": len(classes),\n",
        "    \"metric\": \"multi_logloss\",\n",
        "    \"boosting_type\": \"gbdt\"\n",
        "}\n",
        "\n",
        "model = lgb.train(\n",
        "    params,\n",
        "    train_data,\n",
        "    valid_sets=[test_data],\n",
        "    num_boost_round=100,\n",
        "    callbacks=[lgb.early_stopping(stopping_rounds=10), lgb.log_evaluation(10)]\n",
        ")\n",
        "\n"
      ],
      "metadata": {
        "colab": {
          "base_uri": "https://localhost:8080/"
        },
        "id": "FVUdtpVtlgP5",
        "outputId": "c303cb6e-5191-49c5-caa5-a9da8638300b"
      },
      "execution_count": null,
      "outputs": [
        {
          "output_type": "stream",
          "name": "stdout",
          "text": [
            "[LightGBM] [Warning] There are no meaningful features which satisfy the provided configuration. Decreasing Dataset parameters min_data_in_bin or min_data_in_leaf and re-constructing Dataset might resolve this warning.\n",
            "[LightGBM] [Info] Total Bins 0\n",
            "[LightGBM] [Info] Number of data points in the train set: 4, number of used features: 0\n",
            "[LightGBM] [Info] Start training from score -34.538776\n",
            "[LightGBM] [Info] Start training from score -34.538776\n",
            "[LightGBM] [Info] Start training from score -34.538776\n",
            "[LightGBM] [Info] Start training from score -34.538776\n",
            "[LightGBM] [Info] Start training from score -34.538776\n",
            "[LightGBM] [Warning] Stopped training because there are no more leaves that meet the split requirements\n",
            "Training until validation scores don't improve for 10 rounds\n",
            "[LightGBM] [Warning] Stopped training because there are no more leaves that meet the split requirements\n",
            "[LightGBM] [Warning] Stopped training because there are no more leaves that meet the split requirements\n",
            "[LightGBM] [Warning] Stopped training because there are no more leaves that meet the split requirements\n",
            "[LightGBM] [Warning] Stopped training because there are no more leaves that meet the split requirements\n",
            "[LightGBM] [Warning] Stopped training because there are no more leaves that meet the split requirements\n",
            "[LightGBM] [Warning] Stopped training because there are no more leaves that meet the split requirements\n",
            "[LightGBM] [Warning] Stopped training because there are no more leaves that meet the split requirements\n",
            "[LightGBM] [Warning] Stopped training because there are no more leaves that meet the split requirements\n",
            "[LightGBM] [Warning] Stopped training because there are no more leaves that meet the split requirements\n",
            "[10]\tvalid_0's multi_logloss: 5.32907e-15\n",
            "[LightGBM] [Warning] Stopped training because there are no more leaves that meet the split requirements\n",
            "Early stopping, best iteration is:\n",
            "[1]\tvalid_0's multi_logloss: 5.32907e-15\n"
          ]
        }
      ]
    },
    {
      "cell_type": "code",
      "source": [
        "y_pred = model.predict(X_test)\n",
        "y_pred_classes = np.argmax(y_pred, axis=1)\n",
        "\n",
        "print(\"Accuracy:\", accuracy_score(y_test, y_pred_classes))\n"
      ],
      "metadata": {
        "colab": {
          "base_uri": "https://localhost:8080/"
        },
        "id": "VH3cdiL0lmYa",
        "outputId": "942965e1-a8b9-4da2-cdeb-40c994db5b39"
      },
      "execution_count": null,
      "outputs": [
        {
          "output_type": "stream",
          "name": "stdout",
          "text": [
            "Accuracy: 1.0\n"
          ]
        }
      ]
    },
    {
      "cell_type": "code",
      "source": [
        "# Test with a new image from Drive\n",
        "test_img = \"/content/drive/MyDrive/Plastic types/image_101.jpg\"   # your image path\n",
        "\n",
        "features = extract_features(test_img).reshape(1, -1)\n",
        "prediction = np.argmax(model.predict(features), axis=1)\n",
        "\n",
        "print(\"Predicted class:\", classes[prediction[0]])\n",
        "\n"
      ],
      "metadata": {
        "colab": {
          "base_uri": "https://localhost:8080/"
        },
        "id": "A7Pa01Iylmtx",
        "outputId": "a528a0f8-c5f9-444c-92ba-6d8d95b6059c"
      },
      "execution_count": null,
      "outputs": [
        {
          "output_type": "stream",
          "name": "stdout",
          "text": [
            "Predicted class: PE\n"
          ]
        }
      ]
    },
    {
      "cell_type": "code",
      "source": [],
      "metadata": {
        "id": "CGClfSKjlnBp"
      },
      "execution_count": null,
      "outputs": []
    }
  ]
}